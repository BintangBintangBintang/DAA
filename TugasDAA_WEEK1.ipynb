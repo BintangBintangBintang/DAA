{
  "nbformat": 4,
  "nbformat_minor": 0,
  "metadata": {
    "colab": {
      "provenance": []
    },
    "kernelspec": {
      "name": "python3",
      "display_name": "Python 3"
    },
    "language_info": {
      "name": "python"
    }
  },
  "cells": [
    {
      "cell_type": "code",
      "execution_count": 1,
      "metadata": {
        "colab": {
          "base_uri": "https://localhost:8080/"
        },
        "id": "j1Ln42H9qJ1d",
        "outputId": "bc0c3b34-2877-4e12-e5c4-3e0939c63ee0"
      },
      "outputs": [
        {
          "output_type": "stream",
          "name": "stdout",
          "text": [
            "KPK dari  3 dan 4 12\n"
          ]
        }
      ],
      "source": [
        "#kpk\n",
        "def kpk(x, y):\n",
        "\n",
        "   if x > y:\n",
        "       greater = x\n",
        "   else:\n",
        "       greater = y\n",
        "\n",
        "   while(True):\n",
        "       if((greater % x == 0) and (greater % y == 0)):\n",
        "           lcm = greater\n",
        "           break\n",
        "       greater += 1\n",
        "\n",
        "   return lcm\n",
        "\n",
        "x = 3\n",
        "y = 4\n",
        "\n",
        "print(\"KPK dari \", x , \"dan\", y , kpk(x, y))\n"
      ]
    },
    {
      "cell_type": "code",
      "source": [
        "def swap(a, b):\n",
        " piring = [a, b, \"\"]\n",
        " for i in range(len(piring)):\n",
        "  piring[2] = a\n",
        "  piring[0] = b\n",
        "  piring[1] = a\n",
        "  piring[2] = \"\"\n",
        "  print(\"piring\", i+1, \"=\", str(piring[i]))\n",
        "a = \"manggis\"\n",
        "b = \"pisang\"\n",
        "print(\"piring 1 =\", a)\n",
        "print(\"piring 2 =\", b)\n",
        "print(\"piring 3 = \")\n",
        "print(\"\\nSwap Output:\")\n",
        "swap(a,b)"
      ],
      "metadata": {
        "colab": {
          "base_uri": "https://localhost:8080/"
        },
        "id": "F1islUNbqSRD",
        "outputId": "29037a5d-e8db-4d37-f9cb-a0ff3bdc9e64"
      },
      "execution_count": 17,
      "outputs": [
        {
          "output_type": "stream",
          "name": "stdout",
          "text": [
            "piring 1 = manggis\n",
            "piring 2 = pisang\n",
            "piring 3 = \n",
            "\n",
            "Swap Output:\n",
            "piring 1 = pisang\n",
            "piring 2 = manggis\n",
            "piring 3 = \n"
          ]
        }
      ]
    },
    {
      "cell_type": "code",
      "source": [
        "def luas_segitiga(base, height):\n",
        "    return 0.5 * base * height\n",
        "\n",
        "base = float(input(\"Masukkan alas dari segitiga : \"))\n",
        "height = float(input(\"Masukkan tinggi dari segitiga : \"))\n",
        "print(\"Luas Segitiga berdasarkan data diatas adalah\", luas_segitiga(base, height))\n"
      ],
      "metadata": {
        "colab": {
          "base_uri": "https://localhost:8080/"
        },
        "id": "9j-HWsyvr2S3",
        "outputId": "e8528390-e146-42fb-8707-836235e23c3c"
      },
      "execution_count": 18,
      "outputs": [
        {
          "output_type": "stream",
          "name": "stdout",
          "text": [
            "Masukkan alas dari segitiga : 1\n",
            "Masukkan tinggi dari segitiga : 2\n",
            "Luas Segitiga berdasarkan data diatas adalah 1.0\n"
          ]
        }
      ]
    },
    {
      "cell_type": "code",
      "source": [
        "base = float(input('Masukkan Panjang :'))\n",
        "height = float(input('Masukkan Tinggi :'))\n",
        "area = base * height\n",
        "print(\"Luas dari jajar genjang adalah : \", area)\n"
      ],
      "metadata": {
        "colab": {
          "base_uri": "https://localhost:8080/"
        },
        "id": "ynsRWjcpsCaE",
        "outputId": "4fa79b4c-ad40-486c-89d7-36f17db5be61"
      },
      "execution_count": 22,
      "outputs": [
        {
          "output_type": "stream",
          "name": "stdout",
          "text": [
            "Masukkan Panjang :5\n",
            "Masukkan Tinggi :2\n",
            "Luas dari jajar genjang adalah :  10.0\n"
          ]
        }
      ]
    },
    {
      "cell_type": "code",
      "source": [
        "pi    = 22/7\n",
        "jari   = float(input(\"Masukan Jari-jarinya  : \"))\n",
        "tinggi = float(input(\"Masukan Tinggginya    : \"))\n",
        "volume = pi*jari*jari*tinggi\n",
        "print(\"Volume Tabung         =\",\"{:.2f}\".format(volume))\n",
        "\n"
      ],
      "metadata": {
        "colab": {
          "base_uri": "https://localhost:8080/"
        },
        "id": "_-bpKPHauPWH",
        "outputId": "ba9017dd-f0ba-4b66-b09f-8422a8df0bb4"
      },
      "execution_count": 25,
      "outputs": [
        {
          "output_type": "stream",
          "name": "stdout",
          "text": [
            "Masukan Jari-jarinya  : 5\n",
            "Masukan Tinggginya    : 10\n",
            "Volume Tabung         = 785.71\n"
          ]
        }
      ]
    },
    {
      "cell_type": "code",
      "source": [
        "pi    = 22/7\n",
        "jari   = float(input(\"Masukan Jari-jari Lingkaran : \"))\n",
        "tinggi   = float(input(\"Masukan Tinggi Kerucut : \"))\n",
        "volume   = 1/3*pi*(jari*jari)*tinggi\n",
        "print(\"Volume Kerucut =\",\"{:.2f}\".format(volume))\n"
      ],
      "metadata": {
        "colab": {
          "base_uri": "https://localhost:8080/"
        },
        "id": "_ylsCCRJwMHr",
        "outputId": "6a6e946e-2a5a-4baf-c597-26b06d66c4c9"
      },
      "execution_count": 26,
      "outputs": [
        {
          "output_type": "stream",
          "name": "stdout",
          "text": [
            "Masukan Jari-jari Lingkaran : 5\n",
            "Masukan Tinggi Kerucut : 2\n",
            "Volume Kerucut = 52.38\n"
          ]
        }
      ]
    }
  ]
}