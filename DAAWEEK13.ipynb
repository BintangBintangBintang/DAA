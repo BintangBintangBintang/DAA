{
  "cells": [
    {
      "cell_type": "code",
      "execution_count": 9,
      "metadata": {
        "id": "eV1CgEasur6e"
      },
      "outputs": [],
      "source": [
        "def bfs(graph, start):\n",
        "  visited = []\n",
        "  queue = []\n",
        "  queue = [start]\n",
        "  while queue:\n",
        "    node = queue.pop(0)\n",
        "    if node not in visited:\n",
        "      visited.append(node)\n",
        "      neighbours = graph[node]\n",
        "      for neighbour in neighbours:\n",
        "        queue.append(neighbour)\n",
        "  return visited"
      ]
    },
    {
      "cell_type": "code",
      "source": [
        "graph = {'Amin' : ['Wasim', 'Nick', 'Mike'],\n",
        "         'Wasim' : ['Imran', 'Amin'],\n",
        "         'Imran' : ['Wasim', 'Faras'],\n",
        "         'Faras' : ['Imran'],\n",
        "         'Mike' : ['Amin'],\n",
        "         'Nick' : ['Amin']}"
      ],
      "metadata": {
        "id": "6_5DRN1mwSMr"
      },
      "execution_count": 11,
      "outputs": []
    },
    {
      "cell_type": "code",
      "source": [
        "# O Amin ---------------------------\n",
        "# |                |                |\n",
        "# O Wasim       O Nick           O Mike\n",
        "# |\n",
        "# O Imran\n",
        "# |\n",
        "# O Faras\n",
        "\n",
        "bfs(graph, 'Amin')"
      ],
      "metadata": {
        "colab": {
          "base_uri": "https://localhost:8080/"
        },
        "id": "0IAj7bqwwZ09",
        "outputId": "ee1fda46-c205-445a-ecbd-bbe7db7681c3"
      },
      "execution_count": 16,
      "outputs": [
        {
          "output_type": "execute_result",
          "data": {
            "text/plain": [
              "['Amin', 'Wasim', 'Nick', 'Mike', 'Imran', 'Faras']"
            ]
          },
          "metadata": {},
          "execution_count": 16
        }
      ]
    },
    {
      "cell_type": "code",
      "source": [
        "bfs(graph, 'Wasim')"
      ],
      "metadata": {
        "colab": {
          "base_uri": "https://localhost:8080/"
        },
        "id": "COs2KwmwxpX7",
        "outputId": "737b18a7-f5ea-4b0d-f864-7cb46afbe789"
      },
      "execution_count": 17,
      "outputs": [
        {
          "output_type": "execute_result",
          "data": {
            "text/plain": [
              "['Wasim', 'Imran', 'Amin', 'Faras', 'Nick', 'Mike']"
            ]
          },
          "metadata": {},
          "execution_count": 17
        }
      ]
    },
    {
      "cell_type": "code",
      "source": [
        "bfs(graph, 'Nick')"
      ],
      "metadata": {
        "colab": {
          "base_uri": "https://localhost:8080/"
        },
        "id": "F4JdU7etxpme",
        "outputId": "5e159a89-7696-4e40-beb8-0b66fdb56526"
      },
      "execution_count": 19,
      "outputs": [
        {
          "output_type": "execute_result",
          "data": {
            "text/plain": [
              "['Nick', 'Amin', 'Wasim', 'Mike', 'Imran', 'Faras']"
            ]
          },
          "metadata": {},
          "execution_count": 19
        }
      ]
    },
    {
      "cell_type": "code",
      "source": [
        "bfs(graph, 'Mike')"
      ],
      "metadata": {
        "colab": {
          "base_uri": "https://localhost:8080/"
        },
        "id": "38KiTytGxpyI",
        "outputId": "4ca58976-8041-4115-ce8a-4f6874a6950a"
      },
      "execution_count": 18,
      "outputs": [
        {
          "output_type": "execute_result",
          "data": {
            "text/plain": [
              "['Mike', 'Amin', 'Wasim', 'Nick', 'Imran', 'Faras']"
            ]
          },
          "metadata": {},
          "execution_count": 18
        }
      ]
    },
    {
      "cell_type": "code",
      "source": [
        "bfs(graph, 'Imran')"
      ],
      "metadata": {
        "colab": {
          "base_uri": "https://localhost:8080/"
        },
        "id": "shS6Tl1LxqWB",
        "outputId": "b1aee4b1-e32b-4638-9a5b-216e29f1eacd"
      },
      "execution_count": 20,
      "outputs": [
        {
          "output_type": "execute_result",
          "data": {
            "text/plain": [
              "['Imran', 'Wasim', 'Faras', 'Amin', 'Nick', 'Mike']"
            ]
          },
          "metadata": {},
          "execution_count": 20
        }
      ]
    },
    {
      "cell_type": "code",
      "source": [
        "bfs(graph, 'Faras')"
      ],
      "metadata": {
        "colab": {
          "base_uri": "https://localhost:8080/"
        },
        "id": "zgXokBvpx5Rd",
        "outputId": "d8ad8565-3243-4e4e-913d-aef2bd1aafa1"
      },
      "execution_count": 21,
      "outputs": [
        {
          "output_type": "execute_result",
          "data": {
            "text/plain": [
              "['Faras', 'Imran', 'Wasim', 'Amin', 'Nick', 'Mike']"
            ]
          },
          "metadata": {},
          "execution_count": 21
        }
      ]
    },
    {
      "cell_type": "code",
      "source": [
        "graph2 = {'Rektor' : ['Warek1', 'Warek2'],\n",
        "         'Warek1' : ['Rektor'],\n",
        "         'Warek2' : ['Kaprodi1', 'Kaprodi2','Kaprodi3','Rektor'],\n",
        "\n",
        "         'Kaprodi1' : ['DosenA','DosenB','DosenC','Warek2'],\n",
        "         'Kaprodi2' : ['DosenD','DosenE','Warek2'],\n",
        "         'Kaprodi3' : ['DosenF','DosenG','Warek2'],\n",
        "\n",
        "         'DosenA' : ['Kaprodi1'],\n",
        "         'DosenB' : ['Kaprodi1'],\n",
        "         'DosenC' : ['Kaprodi1'],\n",
        "\n",
        "         'DosenD' : ['Kaprodi2'],\n",
        "         'DosenE' : ['Kaprodi2'],\n",
        "\n",
        "         'DosenF' : ['Kaprodi3'],\n",
        "         'DosenG' : ['Kaprodi3']\n",
        "         }"
      ],
      "metadata": {
        "id": "UQvSnAgnzfuH"
      },
      "execution_count": 22,
      "outputs": []
    },
    {
      "cell_type": "code",
      "source": [
        "bfs(graph2, 'Rektor')"
      ],
      "metadata": {
        "colab": {
          "base_uri": "https://localhost:8080/"
        },
        "id": "G_uJKkej1h3x",
        "outputId": "b0ec4b6e-63c1-4a05-eab0-3524af072788"
      },
      "execution_count": 23,
      "outputs": [
        {
          "output_type": "execute_result",
          "data": {
            "text/plain": [
              "['Rektor',\n",
              " 'Warek1',\n",
              " 'Warek2',\n",
              " 'Kaprodi1',\n",
              " 'Kaprodi2',\n",
              " 'Kaprodi3',\n",
              " 'DosenA',\n",
              " 'DosenB',\n",
              " 'DosenC',\n",
              " 'DosenD',\n",
              " 'DosenE',\n",
              " 'DosenF',\n",
              " 'DosenG']"
            ]
          },
          "metadata": {},
          "execution_count": 23
        }
      ]
    },
    {
      "cell_type": "code",
      "source": [
        "bfs(graph2, 'Warek1')"
      ],
      "metadata": {
        "colab": {
          "base_uri": "https://localhost:8080/"
        },
        "id": "tBtj87g61oHL",
        "outputId": "e2ec274a-4829-421d-d070-130155cb25b0"
      },
      "execution_count": 24,
      "outputs": [
        {
          "output_type": "execute_result",
          "data": {
            "text/plain": [
              "['Warek1',\n",
              " 'Rektor',\n",
              " 'Warek2',\n",
              " 'Kaprodi1',\n",
              " 'Kaprodi2',\n",
              " 'Kaprodi3',\n",
              " 'DosenA',\n",
              " 'DosenB',\n",
              " 'DosenC',\n",
              " 'DosenD',\n",
              " 'DosenE',\n",
              " 'DosenF',\n",
              " 'DosenG']"
            ]
          },
          "metadata": {},
          "execution_count": 24
        }
      ]
    },
    {
      "cell_type": "code",
      "source": [
        "graph3 ={'10' : {'1', '9'},\n",
        "       '1' : {'10', '8'},\n",
        "       '9' : {'10', '8'},\n",
        "       '8' : {'1', '9', '12'},\n",
        "       '0' : {'9', '7', '11'},\n",
        "       '12' : {'8', '2'},\n",
        "       '2' : {'12', '3'},\n",
        "       '7' : {'0', '3', '6', '11'},\n",
        "       '11' : {'7', '0'},\n",
        "       '3' : {'2', '4', '7'},\n",
        "       '4' : {'3'},\n",
        "       '6' : {'7', '5'},\n",
        "       '5': {'6'}}\n",
        "\n"
      ],
      "metadata": {
        "id": "XV_0T37b3tvX"
      },
      "execution_count": 29,
      "outputs": []
    },
    {
      "cell_type": "code",
      "source": [
        "bfs(graph3, '10')"
      ],
      "metadata": {
        "colab": {
          "base_uri": "https://localhost:8080/"
        },
        "id": "SUlzvvlCAAFC",
        "outputId": "4f7027fb-5bc3-49ec-de28-ded886cee6a0"
      },
      "execution_count": 31,
      "outputs": [
        {
          "output_type": "execute_result",
          "data": {
            "text/plain": [
              "['0', '9', '7', '11', '10', '8', '3', '6', '1', '12', '4', '2', '5']"
            ]
          },
          "metadata": {},
          "execution_count": 31
        }
      ]
    },
    {
      "cell_type": "code",
      "source": [
        "bfs(graph3, '1')"
      ],
      "metadata": {
        "colab": {
          "base_uri": "https://localhost:8080/"
        },
        "id": "FumKLrF5AX4R",
        "outputId": "a7db70c1-fdf2-4e71-8906-919474de537a"
      },
      "execution_count": 32,
      "outputs": [
        {
          "output_type": "execute_result",
          "data": {
            "text/plain": [
              "['1', '10', '8', '9', '12', '2', '3', '4', '7', '11', '0', '6', '5']"
            ]
          },
          "metadata": {},
          "execution_count": 32
        }
      ]
    },
    {
      "cell_type": "code",
      "source": [
        "bfs(graph3, '9')"
      ],
      "metadata": {
        "colab": {
          "base_uri": "https://localhost:8080/"
        },
        "id": "sZtKmdrxAfXm",
        "outputId": "1472a023-fcfc-4e39-c797-0c974956aec0"
      },
      "execution_count": 33,
      "outputs": [
        {
          "output_type": "execute_result",
          "data": {
            "text/plain": [
              "['9', '10', '8', '1', '12', '2', '3', '4', '7', '11', '0', '6', '5']"
            ]
          },
          "metadata": {},
          "execution_count": 33
        }
      ]
    },
    {
      "cell_type": "code",
      "source": [
        "bfs(graph3, '8')"
      ],
      "metadata": {
        "colab": {
          "base_uri": "https://localhost:8080/"
        },
        "id": "65_cRGpnAfvQ",
        "outputId": "58c6b6df-4dcd-4fee-a723-0ff520e3a1b8"
      },
      "execution_count": 34,
      "outputs": [
        {
          "output_type": "execute_result",
          "data": {
            "text/plain": [
              "['8', '9', '1', '12', '10', '2', '3', '4', '7', '11', '0', '6', '5']"
            ]
          },
          "metadata": {},
          "execution_count": 34
        }
      ]
    },
    {
      "cell_type": "code",
      "source": [
        "bfs(graph3, '0')"
      ],
      "metadata": {
        "colab": {
          "base_uri": "https://localhost:8080/"
        },
        "id": "BKmFsZXFAf6D",
        "outputId": "5fd28d9d-8db6-410f-ef62-26a485b03963"
      },
      "execution_count": 35,
      "outputs": [
        {
          "output_type": "execute_result",
          "data": {
            "text/plain": [
              "['0', '9', '7', '11', '10', '8', '3', '6', '1', '12', '4', '2', '5']"
            ]
          },
          "metadata": {},
          "execution_count": 35
        }
      ]
    },
    {
      "cell_type": "code",
      "source": [
        "bfs(graph3, '12')"
      ],
      "metadata": {
        "colab": {
          "base_uri": "https://localhost:8080/"
        },
        "id": "2R3GSYi0AgBq",
        "outputId": "8e0ec70f-b31f-4b03-b53e-b5aacf35d6bf"
      },
      "execution_count": 36,
      "outputs": [
        {
          "output_type": "execute_result",
          "data": {
            "text/plain": [
              "['12', '8', '2', '9', '1', '3', '10', '4', '7', '11', '0', '6', '5']"
            ]
          },
          "metadata": {},
          "execution_count": 36
        }
      ]
    },
    {
      "cell_type": "code",
      "source": [
        "bfs(graph3, '2')"
      ],
      "metadata": {
        "colab": {
          "base_uri": "https://localhost:8080/"
        },
        "id": "_RNZIJEBAgJP",
        "outputId": "d385a4ad-0e07-41b0-93e4-eeb36d767ca1"
      },
      "execution_count": 37,
      "outputs": [
        {
          "output_type": "execute_result",
          "data": {
            "text/plain": [
              "['2', '3', '12', '4', '7', '8', '11', '0', '6', '9', '1', '5', '10']"
            ]
          },
          "metadata": {},
          "execution_count": 37
        }
      ]
    },
    {
      "cell_type": "code",
      "source": [
        "bfs(graph3, '7')"
      ],
      "metadata": {
        "colab": {
          "base_uri": "https://localhost:8080/"
        },
        "id": "3FOMYI1OAgRP",
        "outputId": "d8a57b94-b07b-4680-bac0-12bbeb5848ea"
      },
      "execution_count": 38,
      "outputs": [
        {
          "output_type": "execute_result",
          "data": {
            "text/plain": [
              "['7', '3', '11', '0', '6', '4', '2', '9', '5', '12', '10', '8', '1']"
            ]
          },
          "metadata": {},
          "execution_count": 38
        }
      ]
    },
    {
      "cell_type": "code",
      "source": [
        "bfs(graph3, '11')"
      ],
      "metadata": {
        "colab": {
          "base_uri": "https://localhost:8080/"
        },
        "id": "FPh2Nl6yAgZG",
        "outputId": "e5f9033f-0b2d-4fe0-ec7e-b466687bdb92"
      },
      "execution_count": 39,
      "outputs": [
        {
          "output_type": "execute_result",
          "data": {
            "text/plain": [
              "['11', '7', '0', '3', '6', '9', '4', '2', '5', '10', '8', '12', '1']"
            ]
          },
          "metadata": {},
          "execution_count": 39
        }
      ]
    },
    {
      "cell_type": "code",
      "source": [
        "bfs(graph3, '3')"
      ],
      "metadata": {
        "colab": {
          "base_uri": "https://localhost:8080/"
        },
        "id": "-THwLkkHAgf-",
        "outputId": "ad348df5-0c08-43db-b813-4b844e91d64e"
      },
      "execution_count": 40,
      "outputs": [
        {
          "output_type": "execute_result",
          "data": {
            "text/plain": [
              "['3', '4', '7', '2', '11', '0', '6', '12', '9', '5', '8', '10', '1']"
            ]
          },
          "metadata": {},
          "execution_count": 40
        }
      ]
    },
    {
      "cell_type": "code",
      "source": [
        "bfs(graph3, '4')"
      ],
      "metadata": {
        "colab": {
          "base_uri": "https://localhost:8080/"
        },
        "id": "iT3sBT4HAgnC",
        "outputId": "2f81d34d-57a2-44cd-bc2c-b063b24c9cd2"
      },
      "execution_count": 41,
      "outputs": [
        {
          "output_type": "execute_result",
          "data": {
            "text/plain": [
              "['4', '3', '7', '2', '11', '0', '6', '12', '9', '5', '8', '10', '1']"
            ]
          },
          "metadata": {},
          "execution_count": 41
        }
      ]
    },
    {
      "cell_type": "code",
      "source": [
        "bfs(graph3, '6')"
      ],
      "metadata": {
        "colab": {
          "base_uri": "https://localhost:8080/"
        },
        "id": "RwYroPcAAq8P",
        "outputId": "2181414d-6d5e-4317-b020-39e6ba60ce2e"
      },
      "execution_count": 42,
      "outputs": [
        {
          "output_type": "execute_result",
          "data": {
            "text/plain": [
              "['6', '7', '5', '3', '11', '0', '4', '2', '9', '12', '10', '8', '1']"
            ]
          },
          "metadata": {},
          "execution_count": 42
        }
      ]
    },
    {
      "cell_type": "code",
      "source": [
        "bfs(graph3, '5')"
      ],
      "metadata": {
        "colab": {
          "base_uri": "https://localhost:8080/"
        },
        "id": "Fvie23eHArNv",
        "outputId": "882ec169-46b2-4290-d90f-d78aacdaada5"
      },
      "execution_count": 43,
      "outputs": [
        {
          "output_type": "execute_result",
          "data": {
            "text/plain": [
              "['5', '6', '7', '3', '11', '0', '4', '2', '9', '12', '10', '8', '1']"
            ]
          },
          "metadata": {},
          "execution_count": 43
        }
      ]
    },
    {
      "cell_type": "code",
      "source": [
        "def dfs(visited, graph, node):\n",
        "    if node not in visited:\n",
        "      print(node)\n",
        "      visited.add(node)\n",
        "      for neighbour in graph[node]:\n",
        "        dfs(visited,graph,neighbour)"
      ],
      "metadata": {
        "id": "wWidtHG6ILE5"
      },
      "execution_count": 47,
      "outputs": []
    },
    {
      "cell_type": "code",
      "source": [
        "graph = {'Amin' : ['Wasim', 'Nick', 'Mike'],\n",
        "         'Wasim' : ['Imran', 'Amin'],\n",
        "         'Imran' : ['Wasim', 'Faras'],\n",
        "         'Faras' : ['Imran'],\n",
        "         'Mike' : ['Amin'],\n",
        "         'Nick' : ['Amin']}"
      ],
      "metadata": {
        "id": "SuOgw9jOMmJu"
      },
      "execution_count": 45,
      "outputs": []
    },
    {
      "cell_type": "code",
      "source": [
        "# O Amin ---------------------------\n",
        "# |                |                |\n",
        "# O Wasim       O Nick           O Mike\n",
        "# |\n",
        "# O Imran\n",
        "# |\n",
        "# O Faras\n",
        "\n",
        "visited = set()\n",
        "dfs(visited,graph, 'Amin')"
      ],
      "metadata": {
        "colab": {
          "base_uri": "https://localhost:8080/"
        },
        "id": "H57PQDu6MxBR",
        "outputId": "be7cd52a-8420-434c-f684-231ed96839eb"
      },
      "execution_count": 48,
      "outputs": [
        {
          "output_type": "stream",
          "name": "stdout",
          "text": [
            "Amin\n",
            "Wasim\n",
            "Imran\n",
            "Faras\n",
            "Nick\n",
            "Mike\n"
          ]
        }
      ]
    },
    {
      "cell_type": "code",
      "source": [
        "visited = set()\n",
        "dfs(visited,graph, 'Wasim')\n"
      ],
      "metadata": {
        "colab": {
          "base_uri": "https://localhost:8080/"
        },
        "id": "hC14CuSpNccE",
        "outputId": "12302226-1032-4db1-8a6b-cc4c3cb9bacd"
      },
      "execution_count": 51,
      "outputs": [
        {
          "output_type": "stream",
          "name": "stdout",
          "text": [
            "Wasim\n",
            "Imran\n",
            "Faras\n",
            "Amin\n",
            "Nick\n",
            "Mike\n"
          ]
        }
      ]
    },
    {
      "cell_type": "code",
      "source": [
        "visited = set()\n",
        "dfs(visited,graph2, 'Rektor')"
      ],
      "metadata": {
        "colab": {
          "base_uri": "https://localhost:8080/"
        },
        "id": "ajW8Q_PmNu3a",
        "outputId": "fd7a357e-40cc-4887-a7df-d26ae4f6f652"
      },
      "execution_count": 53,
      "outputs": [
        {
          "output_type": "stream",
          "name": "stdout",
          "text": [
            "Rektor\n",
            "Warek1\n",
            "Warek2\n",
            "Kaprodi1\n",
            "DosenA\n",
            "DosenB\n",
            "DosenC\n",
            "Kaprodi2\n",
            "DosenD\n",
            "DosenE\n",
            "Kaprodi3\n",
            "DosenF\n",
            "DosenG\n"
          ]
        }
      ]
    },
    {
      "cell_type": "code",
      "source": [
        "visited = set()\n",
        "dfs(visited,graph2, 'Kaprodi1')"
      ],
      "metadata": {
        "colab": {
          "base_uri": "https://localhost:8080/"
        },
        "id": "CaNIzLUgN2XW",
        "outputId": "4ef06b4c-ed9f-4cee-bf6e-36bea62d7273"
      },
      "execution_count": 54,
      "outputs": [
        {
          "output_type": "stream",
          "name": "stdout",
          "text": [
            "Kaprodi1\n",
            "DosenA\n",
            "DosenB\n",
            "DosenC\n",
            "Warek2\n",
            "Kaprodi2\n",
            "DosenD\n",
            "DosenE\n",
            "Kaprodi3\n",
            "DosenF\n",
            "DosenG\n",
            "Rektor\n",
            "Warek1\n"
          ]
        }
      ]
    },
    {
      "cell_type": "code",
      "source": [
        "graph4 ={'0' : {'1', '9'},\n",
        "       '1' : {'0', '8'},\n",
        "       '9' : {'0', '8'},\n",
        "       '8' : {'1', '9', '7'},\n",
        "       '7' : {'8', '10', '11','3','6'},\n",
        "       '10' : {'7', '11'},\n",
        "       '11' : {'10', '7'},\n",
        "       '6' : {'7', '5'},\n",
        "       '5' : {'6', '3'},\n",
        "       '3' : {'7', '5','2','4'},\n",
        "       '4' : {'3'},\n",
        "       '2' : {'3'},\n",
        "       '12': {' '}}"
      ],
      "metadata": {
        "id": "l4Mf0UMSOUFu"
      },
      "execution_count": 58,
      "outputs": []
    },
    {
      "cell_type": "code",
      "source": [
        "visited = set()\n",
        "dfs(visited,graph4, '0')"
      ],
      "metadata": {
        "colab": {
          "base_uri": "https://localhost:8080/"
        },
        "id": "n8g0rco9N_13",
        "outputId": "e6385b38-2d59-4bdc-afb6-dcb419ce02a9"
      },
      "execution_count": 61,
      "outputs": [
        {
          "output_type": "stream",
          "name": "stdout",
          "text": [
            "0\n",
            "9\n",
            "8\n",
            "7\n",
            "6\n",
            "5\n",
            "3\n",
            "4\n",
            "2\n",
            "11\n",
            "10\n",
            "1\n"
          ]
        }
      ]
    },
    {
      "cell_type": "code",
      "source": [
        "visited = set()\n",
        "dfs(visited,graph4, '8')"
      ],
      "metadata": {
        "colab": {
          "base_uri": "https://localhost:8080/"
        },
        "id": "x-uJZZJnN_5r",
        "outputId": "c8473da3-3b1b-4b53-fe18-7a6954d88592"
      },
      "execution_count": 62,
      "outputs": [
        {
          "output_type": "stream",
          "name": "stdout",
          "text": [
            "8\n",
            "9\n",
            "0\n",
            "1\n",
            "7\n",
            "6\n",
            "5\n",
            "3\n",
            "4\n",
            "2\n",
            "11\n",
            "10\n"
          ]
        }
      ]
    }
  ],
  "metadata": {
    "colab": {
      "provenance": []
    },
    "kernelspec": {
      "display_name": "Python 3",
      "name": "python3"
    },
    "language_info": {
      "name": "python"
    }
  },
  "nbformat": 4,
  "nbformat_minor": 0
}