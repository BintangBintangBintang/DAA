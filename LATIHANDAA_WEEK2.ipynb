{
  "nbformat": 4,
  "nbformat_minor": 0,
  "metadata": {
    "colab": {
      "provenance": []
    },
    "kernelspec": {
      "name": "python3",
      "display_name": "Python 3"
    },
    "language_info": {
      "name": "python"
    }
  },
  "cells": [
    {
      "cell_type": "code",
      "execution_count": 3,
      "metadata": {
        "colab": {
          "base_uri": "https://localhost:8080/"
        },
        "id": "byFFelAxIt7M",
        "outputId": "773c0f1f-8e0c-48a7-9b72-d828d0b84bf2"
      },
      "outputs": [
        {
          "output_type": "stream",
          "name": "stdout",
          "text": [
            "[1, 2, 3, 4, 5, 6]\n"
          ]
        }
      ],
      "source": [
        "import numpy as np\n",
        "\n",
        "a = [1,2,3]\n",
        "b = [4,5,6]\n",
        "\n",
        "hasil = a + b\n",
        "print(hasil)"
      ]
    },
    {
      "cell_type": "code",
      "source": [
        "import numpy as np\n",
        "\n",
        "nilai = np.array([85,55,40,90])\n",
        "\n",
        "print(nilai[3])\n",
        "\n"
      ],
      "metadata": {
        "colab": {
          "base_uri": "https://localhost:8080/"
        },
        "id": "YK8zR3yDLWUx",
        "outputId": "27d86956-db08-4cb9-b135-ea539fc6134a"
      },
      "execution_count": 5,
      "outputs": [
        {
          "output_type": "stream",
          "name": "stdout",
          "text": [
            "90\n"
          ]
        }
      ]
    },
    {
      "cell_type": "code",
      "source": [
        "import numpy as np\n",
        "\n",
        "a = [1,2,3]\n",
        "b = [4,5,6]\n",
        "\n",
        "def add(list_a,list_b):\n",
        "    result = []\n",
        "    for first, second in zip(list_a,list_b):\n",
        "      result.append(first + second)\n",
        "    return result\n",
        "add(a,b)\n"
      ],
      "metadata": {
        "colab": {
          "base_uri": "https://localhost:8080/"
        },
        "id": "kzdv5uV8MNY9",
        "outputId": "8cd027fe-77d3-473c-ab8e-0ebf40424edd"
      },
      "execution_count": 25,
      "outputs": [
        {
          "output_type": "execute_result",
          "data": {
            "text/plain": [
              "[5, 7, 9]"
            ]
          },
          "metadata": {},
          "execution_count": 25
        }
      ]
    },
    {
      "cell_type": "code",
      "source": [
        "import numpy as np\n",
        "\n",
        "print(np.__version__)\n"
      ],
      "metadata": {
        "colab": {
          "base_uri": "https://localhost:8080/"
        },
        "id": "XlBlSE1nOXbk",
        "outputId": "1c427674-2546-4510-900a-f98f51a5e8e1"
      },
      "execution_count": 31,
      "outputs": [
        {
          "output_type": "stream",
          "name": "stdout",
          "text": [
            "1.23.5\n"
          ]
        }
      ]
    },
    {
      "cell_type": "code",
      "source": [
        "print(\"haloooooooooooooooooooo\")\n",
        "print(\"Nama saya bintang\")\n",
        "print(\"NIM saya 2022071009\")"
      ],
      "metadata": {
        "colab": {
          "base_uri": "https://localhost:8080/"
        },
        "id": "ZghMVLq1Q87V",
        "outputId": "8989e9f0-dfed-4f12-c7c5-9978879fdab4"
      },
      "execution_count": 32,
      "outputs": [
        {
          "output_type": "stream",
          "name": "stdout",
          "text": [
            "haloooooooooooooooooooo\n",
            "Nama saya bintang\n",
            "NIM saya 2022071009\n"
          ]
        }
      ]
    },
    {
      "cell_type": "code",
      "source": [
        "if 5>2:\n",
        "  print(\"five is greater than two\")\n",
        "\n"
      ],
      "metadata": {
        "colab": {
          "base_uri": "https://localhost:8080/"
        },
        "id": "IBYZsSyMSirh",
        "outputId": "2d5f86c9-08a6-4c63-9309-7d4a02a64960"
      },
      "execution_count": 34,
      "outputs": [
        {
          "output_type": "stream",
          "name": "stdout",
          "text": [
            "five is greater than two\n"
          ]
        }
      ]
    },
    {
      "cell_type": "code",
      "source": [
        "x = 5\n",
        "y = \"John\"\n",
        "print(x)\n",
        "print(y)"
      ],
      "metadata": {
        "colab": {
          "base_uri": "https://localhost:8080/"
        },
        "id": "0OguFyMNTBJN",
        "outputId": "3c467c1c-88a1-472a-dc4a-cce626e9dc96"
      },
      "execution_count": 39,
      "outputs": [
        {
          "output_type": "stream",
          "name": "stdout",
          "text": [
            "5\n",
            "John\n"
          ]
        }
      ]
    },
    {
      "cell_type": "code",
      "source": [
        "x = 4\n",
        "x = \"sally\"\n",
        "print(x)\n"
      ],
      "metadata": {
        "colab": {
          "base_uri": "https://localhost:8080/"
        },
        "id": "OIhNeDJlTmTZ",
        "outputId": "88cda423-4e7b-4963-c182-d3cae90f273a"
      },
      "execution_count": 46,
      "outputs": [
        {
          "output_type": "stream",
          "name": "stdout",
          "text": [
            "sally\n"
          ]
        }
      ]
    },
    {
      "cell_type": "code",
      "source": [
        "def getFirst(myList):\n",
        "    return myList[0]\n",
        "getFirst([1,2,3])\n",
        "\n"
      ],
      "metadata": {
        "colab": {
          "base_uri": "https://localhost:8080/"
        },
        "id": "yJOFtkYdUWFG",
        "outputId": "edfcc488-ae05-42da-cd03-b2575a984849"
      },
      "execution_count": 50,
      "outputs": [
        {
          "output_type": "execute_result",
          "data": {
            "text/plain": [
              "1"
            ]
          },
          "metadata": {},
          "execution_count": 50
        }
      ]
    },
    {
      "cell_type": "code",
      "source": [
        "def getSecond(myList):\n",
        "    return myList[1]\n",
        "getSecond([1,2,3])\n"
      ],
      "metadata": {
        "colab": {
          "base_uri": "https://localhost:8080/"
        },
        "id": "UzDmrEtNWFFz",
        "outputId": "2f297799-28b1-4204-a2c3-aa31bd02977c"
      },
      "execution_count": 53,
      "outputs": [
        {
          "output_type": "execute_result",
          "data": {
            "text/plain": [
              "2"
            ]
          },
          "metadata": {},
          "execution_count": 53
        }
      ]
    },
    {
      "cell_type": "code",
      "source": [
        "def getLast(myList):\n",
        "    return myList[-1]\n",
        "getLast([1,2,3,4,5,6])"
      ],
      "metadata": {
        "colab": {
          "base_uri": "https://localhost:8080/"
        },
        "id": "uadzC7GtWZ1B",
        "outputId": "435bff5c-ab2a-41b6-82ff-54a1036aa668"
      },
      "execution_count": 55,
      "outputs": [
        {
          "output_type": "execute_result",
          "data": {
            "text/plain": [
              "6"
            ]
          },
          "metadata": {},
          "execution_count": 55
        }
      ]
    },
    {
      "cell_type": "code",
      "source": [
        "def get1BeforeLast(myList):\n",
        "    return myList[-2]\n",
        "get1BeforeLast([1,2,3,4,5,6])"
      ],
      "metadata": {
        "colab": {
          "base_uri": "https://localhost:8080/"
        },
        "id": "VmW5-6yVWy7n",
        "outputId": "827f460d-9fd3-41f8-ffb1-87498543af4a"
      },
      "execution_count": 59,
      "outputs": [
        {
          "output_type": "execute_result",
          "data": {
            "text/plain": [
              "5"
            ]
          },
          "metadata": {},
          "execution_count": 59
        }
      ]
    },
    {
      "cell_type": "code",
      "source": [
        "def getSum(myList):\n",
        "    sum = 0\n",
        "    for item in myList:\n",
        "        sum = sum+item\n",
        "    return sum\n",
        "getSum([1,2,3])"
      ],
      "metadata": {
        "colab": {
          "base_uri": "https://localhost:8080/"
        },
        "id": "OaZeg72baiNY",
        "outputId": "6ca593cf-903d-4eb8-8581-435895a82c3d"
      },
      "execution_count": 67,
      "outputs": [
        {
          "output_type": "execute_result",
          "data": {
            "text/plain": [
              "6"
            ]
          },
          "metadata": {},
          "execution_count": 67
        }
      ]
    },
    {
      "cell_type": "code",
      "source": [
        "def getKali(myList):\n",
        "    kali = 1\n",
        "    for item in myList:\n",
        "        kali = kali * item\n",
        "    return kali\n",
        "getKali([1,2,3,4,5])"
      ],
      "metadata": {
        "colab": {
          "base_uri": "https://localhost:8080/"
        },
        "id": "KKSb_0wddfOQ",
        "outputId": "bae9f992-25ac-4ec0-a2ab-9d2efd40cd4a"
      },
      "execution_count": 74,
      "outputs": [
        {
          "output_type": "execute_result",
          "data": {
            "text/plain": [
              "120"
            ]
          },
          "metadata": {},
          "execution_count": 74
        }
      ]
    },
    {
      "cell_type": "code",
      "source": [
        "def getBagi(myList):\n",
        "    bagi = 1\n",
        "    for item in myList:\n",
        "        bagi = bagi / item\n",
        "    return bagi\n",
        "getBagi([1,2,3,4,5])"
      ],
      "metadata": {
        "colab": {
          "base_uri": "https://localhost:8080/"
        },
        "id": "xpHQzfOIeEaF",
        "outputId": "681209d7-fbed-4967-8d2f-156e31875548"
      },
      "execution_count": 75,
      "outputs": [
        {
          "output_type": "execute_result",
          "data": {
            "text/plain": [
              "0.008333333333333333"
            ]
          },
          "metadata": {},
          "execution_count": 75
        }
      ]
    },
    {
      "cell_type": "code",
      "source": [],
      "metadata": {
        "id": "LLTvHQYZeYsU"
      },
      "execution_count": 85,
      "outputs": []
    },
    {
      "cell_type": "markdown",
      "source": [
        "#ini komen\n",
        "##ini komen\n"
      ],
      "metadata": {
        "id": "bh6gZluuPnfo"
      }
    }
  ]
}