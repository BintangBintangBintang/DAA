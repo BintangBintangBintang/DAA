{
  "nbformat": 4,
  "nbformat_minor": 0,
  "metadata": {
    "colab": {
      "provenance": []
    },
    "kernelspec": {
      "name": "python3",
      "display_name": "Python 3"
    },
    "language_info": {
      "name": "python"
    }
  },
  "cells": [
    {
      "cell_type": "code",
      "execution_count": 2,
      "metadata": {
        "colab": {
          "base_uri": "https://localhost:8080/"
        },
        "id": "2v8axmNRsUhv",
        "outputId": "e6cc92e6-1481-44e5-c758-2eff74d16bcc"
      },
      "outputs": [
        {
          "output_type": "stream",
          "name": "stdout",
          "text": [
            "Collecting pulp\n",
            "  Downloading PuLP-2.7.0-py3-none-any.whl (14.3 MB)\n",
            "\u001b[2K     \u001b[90m━━━━━━━━━━━━━━━━━━━━━━━━━━━━━━━━━━━━━━━━\u001b[0m \u001b[32m14.3/14.3 MB\u001b[0m \u001b[31m78.5 MB/s\u001b[0m eta \u001b[36m0:00:00\u001b[0m\n",
            "\u001b[?25hInstalling collected packages: pulp\n",
            "Successfully installed pulp-2.7.0\n"
          ]
        }
      ],
      "source": [
        "pip install pulp\n"
      ]
    },
    {
      "cell_type": "code",
      "source": [
        "import pulp"
      ],
      "metadata": {
        "id": "HgBrAxkctMx6"
      },
      "execution_count": 3,
      "outputs": []
    },
    {
      "cell_type": "code",
      "source": [
        "model = pulp.LpProblem(\"ProfitMaximisingProblem\", pulp.LpMaximize)"
      ],
      "metadata": {
        "id": "F-jqkiKatOrb"
      },
      "execution_count": 12,
      "outputs": []
    },
    {
      "cell_type": "code",
      "source": [
        "A = pulp.LpVariable('A', lowBound=0, cat='Integer')\n",
        "B = pulp.LpVariable('B', lowBound=0, cat='Integer')"
      ],
      "metadata": {
        "id": "sudCB3qstg3i"
      },
      "execution_count": 13,
      "outputs": []
    },
    {
      "cell_type": "code",
      "source": [
        "# objective function\n",
        "model += 4200 * A + 2800 * B, \"Profit\"\n",
        "# constraints\n",
        "model += 3 * A + 2 * B <= 20\n",
        "model += 4 * A + 3 * B <= 30\n",
        "model += 4 * A + 3 * B <= 44"
      ],
      "metadata": {
        "id": "nhyLN6xTtura"
      },
      "execution_count": 14,
      "outputs": []
    },
    {
      "cell_type": "code",
      "source": [
        "# solve problem\n",
        "model.solve()\n",
        "pulp.LpStatus[model.status]"
      ],
      "metadata": {
        "colab": {
          "base_uri": "https://localhost:8080/",
          "height": 36
        },
        "id": "Ld_BSQjQuG0q",
        "outputId": "fea382ad-d9b2-4888-966b-311b010487d0"
      },
      "execution_count": 7,
      "outputs": [
        {
          "output_type": "execute_result",
          "data": {
            "text/plain": [
              "'Optimal'"
            ],
            "application/vnd.google.colaboratory.intrinsic+json": {
              "type": "string"
            }
          },
          "metadata": {},
          "execution_count": 7
        }
      ]
    },
    {
      "cell_type": "code",
      "source": [
        "# print our decision variable values\n",
        "print (A.varValue)\n",
        "print (B.varValue)\n",
        "\n",
        "# print our objective function value\n",
        "print (pulp.value(model.objective))"
      ],
      "metadata": {
        "colab": {
          "base_uri": "https://localhost:8080/"
        },
        "id": "c1tFWFNlvkWA",
        "outputId": "d627d3ec-df8b-4dff-f045-aea601f36bc9"
      },
      "execution_count": 10,
      "outputs": [
        {
          "output_type": "stream",
          "name": "stdout",
          "text": [
            "6.0\n",
            "1.0\n",
            "28000.0\n"
          ]
        }
      ]
    },
    {
      "cell_type": "code",
      "source": [
        "# 4x +3y = 34\n",
        "import pulp\n",
        "\n",
        "# membuat objek masalah optimasi\n",
        "model = pulp.LpProblem(name=\"Pemecahan_Persamaan\", sense=pulp.LpMinimize)\n",
        "\n",
        "# membuat variable x dan y\n",
        "x = pulp.LpVariable(name=\"x\")\n",
        "y = pulp.LpVariable(name=\"y\")\n",
        "\n",
        "# menambahkan batasan\n",
        "model += 4 * x + 3 * y == 34\n",
        "\n",
        "# menyelesaikan masalah\n",
        "model.solve()\n",
        "\n",
        "# menampilkan hasil\n",
        "print(\"Status:\", model.status)\n",
        "print(\"Nilai x =\", x.varValue)\n",
        "print(\"Nilai y =\", y.varValue)"
      ],
      "metadata": {
        "colab": {
          "base_uri": "https://localhost:8080/"
        },
        "id": "W2zdXPF1v4Ex",
        "outputId": "576bb778-879a-453e-a6e4-a88c9aaad5d3"
      },
      "execution_count": 17,
      "outputs": [
        {
          "output_type": "stream",
          "name": "stdout",
          "text": [
            "Status: 1\n",
            "Nilai x = 8.5\n",
            "Nilai y = 0.0\n"
          ]
        }
      ]
    },
    {
      "cell_type": "code",
      "source": [
        "# 5x + y = 37\n",
        "import pulp\n",
        "\n",
        "# membuat objek masalah optimasi\n",
        "model = pulp.LpProblem(name=\"Pemecahan_Persamaan2\", sense=pulp.LpMinimize)\n",
        "\n",
        "# membuat variable x dan y\n",
        "x = pulp.LpVariable(name=\"x\")\n",
        "y = pulp.LpVariable(name=\"y\")\n",
        "\n",
        "# menambahkan batasan\n",
        "model += 5 * x + 1 * y == 37\n",
        "\n",
        "# menyelesaikan masalah\n",
        "model.solve()\n",
        "\n",
        "# menampilkan hasil\n",
        "print(\"Status:\", model.status)\n",
        "print(\"Nilai x =\", x.varValue)\n",
        "print(\"Nilai y =\", y.varValue)"
      ],
      "metadata": {
        "colab": {
          "base_uri": "https://localhost:8080/"
        },
        "id": "70p9uaGcycHZ",
        "outputId": "da23db49-9c5b-43ab-9729-2c2dc813d12a"
      },
      "execution_count": 18,
      "outputs": [
        {
          "output_type": "stream",
          "name": "stdout",
          "text": [
            "Status: 1\n",
            "Nilai x = 7.4\n",
            "Nilai y = 0.0\n"
          ]
        }
      ]
    },
    {
      "cell_type": "code",
      "source": [
        "# SOAL BUDI\n",
        "import pulp\n",
        "\n",
        "# membuat objek masalah optimasi\n",
        "model = pulp.LpProblem(name=\"PemecahanBudi\", sense=pulp.LpMinimize)\n",
        "\n",
        "# membuat variable x dan y\n",
        "p = pulp.LpVariable(name=\"p\")\n",
        "b = pulp.LpVariable(name=\"b\")\n",
        "\n",
        "# menambahkan batasan\n",
        "model += 2 * p + 6 * b == 15.000\n",
        "\n",
        "# menyelesaikan masalah\n",
        "model.solve()\n",
        "\n",
        "# menampilkan hasil\n",
        "print(\"Status:\", model.status)\n",
        "print(\"Nilai p =\", p.varValue)\n",
        "print(\"Nilai b =\", b.varValue)"
      ],
      "metadata": {
        "colab": {
          "base_uri": "https://localhost:8080/"
        },
        "id": "h3sUlheFzQgc",
        "outputId": "b44b4f0b-1041-4ed1-f83c-60f96a9640c8"
      },
      "execution_count": 25,
      "outputs": [
        {
          "output_type": "stream",
          "name": "stdout",
          "text": [
            "Status: 1\n",
            "Nilai p = 0.0\n",
            "Nilai b = 2.5\n"
          ]
        }
      ]
    },
    {
      "cell_type": "code",
      "source": [
        "import pulp\n",
        "\n",
        "# Inisialisasi masalah linier\n",
        "prob = pulp.LpProblem(\"Budi\", pulp.LpMinimize)\n",
        "\n",
        "# Variabel keputusan\n",
        "pensil = pulp.LpVariable(\"Pensil\", lowBound=0, cat='Integer')\n",
        "buku = pulp.LpVariable(\"Buku\", lowBound=0, cat='Integer')\n",
        "\n",
        "# Fungsi tujuan\n",
        "prob += 2*pensil + 6*buku, \"Total_Harga\"\n",
        "\n",
        "# Batasan\n",
        "prob += 3*pensil + 4*buku == 11000, \"Kebutuhan1\"\n",
        "prob += pensil + 7*buku == 15000, \"Kebutuhan2\"\n",
        "\n",
        "# Penyelesaian masalah\n",
        "prob.solve()\n",
        "\n",
        "# Output hasil\n",
        "print(f\"Status: {pulp.LpStatus[prob.status]}\")\n",
        "print(f\"Harga dua pensil dan enam buku: Rp {pulp.value(pensil)*2 + pulp.value(buku)*6}\")"
      ],
      "metadata": {
        "colab": {
          "base_uri": "https://localhost:8080/"
        },
        "id": "nyq-7AHg3PZH",
        "outputId": "490b0a48-6956-4da7-de74-b2c2ab52fccb"
      },
      "execution_count": 26,
      "outputs": [
        {
          "output_type": "stream",
          "name": "stdout",
          "text": [
            "Status: Optimal\n",
            "Harga dua pensil dan enam buku: Rp 14000.0\n"
          ]
        }
      ]
    },
    {
      "cell_type": "code",
      "source": [
        "import pulp\n",
        "\n",
        "# Inisialisasi masalah linier\n",
        "x = pulp.LpProblem(\"Persegi_Panjang\", pulp.LpMinimize)\n",
        "\n",
        "# Variabel keputusan\n",
        "length = pulp.LpVariable(\"Panjang\", lowBound=0)\n",
        "width = pulp.LpVariable(\"Lebar\", lowBound=0)\n",
        "\n",
        "# Fungsi tujuan (kita tidak memiliki fungsi tujuan karena kita hanya mencari panjang dan lebar)\n",
        "# Kita hanya memiliki batasan untuk keliling\n",
        "x += 2*length + 2*width == 44, \"Keliling\"\n",
        "\n",
        "# Batasan bahwa lebar adalah 6 cm lebih pendek dari panjang\n",
        "x += width == length - 6, \"Lebar\"\n",
        "\n",
        "# Penyelesaian masalah\n",
        "x.solve()\n",
        "\n",
        "# Output hasil\n",
        "print(f\"Status: {pulp.LpStatus[x.status]}\")\n",
        "print(f\"Panjang: {pulp.value(length)} cm\")\n",
        "print(f\"Lebar: {pulp.value(width)} cm\")"
      ],
      "metadata": {
        "colab": {
          "base_uri": "https://localhost:8080/"
        },
        "id": "1oAerHRf9BFg",
        "outputId": "2bab613b-6182-4069-aa0d-daa3e09b026a"
      },
      "execution_count": 27,
      "outputs": [
        {
          "output_type": "stream",
          "name": "stdout",
          "text": [
            "Status: Optimal\n",
            "Panjang: 14.0 cm\n",
            "Lebar: 8.0 cm\n"
          ]
        }
      ]
    },
    {
      "cell_type": "code",
      "source": [
        "# 1. Impor modul yang diperlukan dari SciPy\n",
        "from scipy.optimize import linprog\n",
        "\n",
        "# 2. Tentukan koefisien fungsi tujuan dan matriks batasan\n",
        "\n",
        "# Koefisien fungsi tujuan (z = 5x1 + 7x2)\n",
        "c = [-5, -7] # Karena kita ingin \"maksimalkan\" -5x1 -7x2, maka perlu diubah menjadi \"-5\" dan \"-7\".\n",
        "\n",
        "# Koefisien matriks batasan\n",
        "A = [\n",
        "    [1, 0], # 1x1 + 0x2 <= 16\n",
        "    [2, 3], # 2x1 + 3x2 <= 19\n",
        "    [1, 1]  # 1x1 + 1x2 <= 8\n",
        "]\n",
        "\n",
        "# Batasan kanan (rhs) dari masing-masing batasan\n",
        "b = [16, 19, 8]\n",
        "\n",
        "# 3. tentukan batasan variabel x1 dan x2 sebagai variabel non-negatif\n",
        "x1_bounds = (0, None) # x1 >= 0\n",
        "x2_bounds = (0, None) # x2 >= 0\n",
        "\n",
        "# 4. Gunakan linprog untuk menyelesaikan masalah pemrograman linier\n",
        "result = linprog(c, A_ub=A, b_ub=b, bounds=[x1_bounds, x2_bounds], method=\"highs\")\n",
        "\n",
        "# 5. Tampilkan hasilnya\n",
        "# Hasil optimasi\n",
        "print(\"Optimal Solution:\")\n",
        "print(\"x1 =\", result.x[0])\n",
        "print(\"x2 =\", result.x[1])\n",
        "print(\"Max Z =\", -result.fun) # Karena tujuannya adalah memaksimalkan -Z"
      ],
      "metadata": {
        "colab": {
          "base_uri": "https://localhost:8080/"
        },
        "id": "aQKV-uKyBlCJ",
        "outputId": "65232ab9-09b6-4203-b215-74b2bd3b50e0"
      },
      "execution_count": 28,
      "outputs": [
        {
          "output_type": "stream",
          "name": "stdout",
          "text": [
            "Optimal Solution:\n",
            "x1 = 5.0\n",
            "x2 = 3.0\n",
            "Max Z = 46.0\n"
          ]
        }
      ]
    },
    {
      "cell_type": "code",
      "source": [
        "# 1. Impor modul yang diperlukan dari SciPy\n",
        "from scipy.optimize import linprog\n",
        "\n",
        "# 2. Tentukan koefisien fungsi tujuan dan matriks batasan\n",
        "\n",
        "c = [-2, -1]\n",
        "\n",
        "# Koefisien matriks batasan\n",
        "A = [\n",
        "    [2, 1] # 2x + y <= 21\n",
        "]\n",
        "\n",
        "# Batasan kanan (rhs) dari masing-masing batasan\n",
        "b = [21]\n",
        "\n",
        "# 3. tentukan batasan variabel x1 dan x2 sebagai variabel non-negatif\n",
        "x1_bounds = (0, None) # x >= 0\n",
        "x2_bounds = (0, None) # y >= 0\n",
        "\n",
        "# 4. Gunakan linprog untuk menyelesaikan masalah pemrograman linier\n",
        "result = linprog(c, A_ub=A, b_ub=b, bounds=[x1_bounds, x2_bounds], method=\"highs\")\n",
        "\n",
        "# 5. Tampilkan hasilnya\n",
        "# Hasil optimasi\n",
        "print(\"Optimal Solution:\")\n",
        "print(\"x =\", result.x[0])\n",
        "print(\"y =\", result.x[1])\n",
        "print(\"Max Z =\", -result.fun) # Karena tujuannya adalah memaksimalkan -Z"
      ],
      "metadata": {
        "colab": {
          "base_uri": "https://localhost:8080/"
        },
        "id": "wtc-nAazEczk",
        "outputId": "ae25416a-64cc-4d9e-cda3-cf68d0f6ee93"
      },
      "execution_count": 29,
      "outputs": [
        {
          "output_type": "stream",
          "name": "stdout",
          "text": [
            "Optimal Solution:\n",
            "x = 10.5\n",
            "y = 0.0\n",
            "Max Z = 21.0\n"
          ]
        }
      ]
    },
    {
      "cell_type": "code",
      "source": [
        "# 1. Impor modul yang diperlukan dari SciPy\n",
        "from scipy.optimize import linprog\n",
        "\n",
        "# 2. Tentukan koefisien fungsi tujuan dan matriks batasan\n",
        "\n",
        "c = [0, 0]\n",
        "\n",
        "# Koefisien matriks batasan\n",
        "A = [\n",
        "    [1, 1], # x + y = 16\n",
        "    [3, 4]  # 3x + 4y = 55\n",
        "]\n",
        "\n",
        "# Batasan kanan (rhs) dari masing-masing batasan\n",
        "b = [16, 55]\n",
        "\n",
        "# 3. tentukan batasan variabel x1 dan x2 sebagai variabel non-negatif\n",
        "x1_bounds = (0, None) # x >= 0\n",
        "x2_bounds = (0, None) # y >= 0\n",
        "\n",
        "# 4. Gunakan linprog untuk menyelesaikan masalah pemrograman linier\n",
        "result = linprog(c, A_eq=A, b_eq=b, bounds=[x1_bounds, x2_bounds], method=\"highs\")\n",
        "\n",
        "# 5. Tampilkan hasilnya\n",
        "# Hasil optimasi\n",
        "print(\"Optimal Solution:\")\n",
        "print(\"x =\", result.x[0])\n",
        "print(\"y =\", result.x[1])"
      ],
      "metadata": {
        "colab": {
          "base_uri": "https://localhost:8080/"
        },
        "id": "qbq6dp8xItu3",
        "outputId": "e5949b76-cd68-4e6a-fad8-b0bc9113bf9d"
      },
      "execution_count": 31,
      "outputs": [
        {
          "output_type": "stream",
          "name": "stdout",
          "text": [
            "Optimal Solution:\n",
            "x = 9.0\n",
            "y = 7.0\n"
          ]
        }
      ]
    }
  ]
}