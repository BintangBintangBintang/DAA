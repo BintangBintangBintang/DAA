{
  "nbformat": 4,
  "nbformat_minor": 0,
  "metadata": {
    "colab": {
      "provenance": []
    },
    "kernelspec": {
      "name": "python3",
      "display_name": "Python 3"
    },
    "language_info": {
      "name": "python"
    }
  },
  "cells": [
    {
      "cell_type": "code",
      "execution_count": 23,
      "metadata": {
        "colab": {
          "base_uri": "https://localhost:8080/"
        },
        "id": "G81TqRw-Vetw",
        "outputId": "eff6a7cd-e986-4bfc-cb02-d1c274525afe"
      },
      "outputs": [
        {
          "output_type": "stream",
          "name": "stdout",
          "text": [
            "gcd( 60 24 ) =  12\n"
          ]
        }
      ],
      "source": [
        "#fpb\n",
        "def gcd(m, n):\n",
        "    if m == 0 :\n",
        "        return n\n",
        "\n",
        "    return gcd(n%m, m)\n",
        "\n",
        "m = 60\n",
        "n = 24\n",
        "print(\"gcd(\", m ,  n, \") = \", gcd(m, n))\n",
        "\n",
        "#Alforitma dan pseudocode\n",
        "# 1. Buat variable untuk fungsi gcd dengan parameter (m,n)\n",
        "# 2. Buat kondisi jika m == 0 , maka simpan nilai n\n",
        "# 3. Buat kondisi untuk menyimpan fungsi gcd dengan parameter (n%m,m)\n",
        "# 4. Buat fungsi untuk menampilkan hasil gcd dengan memanggil variable m dan n serta fungsi yang sudah disimpan di gcd dengan parameter (m,n)"
      ]
    },
    {
      "cell_type": "code",
      "source": [
        "#kpk\n",
        "def kpk(x, y):\n",
        "\n",
        "   if x > y:\n",
        "       greater = x\n",
        "   else:\n",
        "       greater = y\n",
        "\n",
        "   while(True):\n",
        "       if((greater % x == 0) and (greater % y == 0)):\n",
        "           lcm = greater\n",
        "           break\n",
        "       greater += 1\n",
        "\n",
        "   return lcm\n",
        "\n",
        "x = 3\n",
        "y = 4\n",
        "\n",
        "print(\"KPK dari \", x , \"dan\", y , kpk(x, y))\n",
        "\n",
        "#Algoritma dan pseudocode dari program kpk\n",
        "# 1. Tentukan variable dari fungsi kpk\n",
        "# 2. Buat kondisi untuk menentukan variable terbesar dengan if else\n",
        "# 3. Buat pengulangan dengan cara perhitungan modulus variable terbesar dengan x dan modulus variable terbesar dengan y dengan kondisi keduanya harus 0 (greater % x == 0) and (greater % y == 0)\n",
        "# 4. Buat kondisi apabila keduanya tidak bernilai 0 maka variable terbesar bertambah nilai 1 dan mengulang perhitungan modulus tersebut sampai tidak ada pengulangan\n",
        "# 5. Buat variable hasil akhir untuk dipanggil\n",
        "# 6. Buat print untuk menampilkan hasil akhir"
      ],
      "metadata": {
        "colab": {
          "base_uri": "https://localhost:8080/"
        },
        "id": "drrkSibIY_dn",
        "outputId": "03068fc8-f18f-4f38-85a7-4be0dd6f7359"
      },
      "execution_count": 34,
      "outputs": [
        {
          "output_type": "stream",
          "name": "stdout",
          "text": [
            "KPK dari  3 dan 4 12\n"
          ]
        }
      ]
    },
    {
      "cell_type": "code",
      "source": [],
      "metadata": {
        "id": "H_uWRPKHi1gV"
      },
      "execution_count": null,
      "outputs": []
    }
  ]
}