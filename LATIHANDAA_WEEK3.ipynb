{
  "nbformat": 4,
  "nbformat_minor": 0,
  "metadata": {
    "colab": {
      "provenance": []
    },
    "kernelspec": {
      "name": "python3",
      "display_name": "Python 3"
    },
    "language_info": {
      "name": "python"
    }
  },
  "cells": [
    {
      "cell_type": "code",
      "execution_count": 12,
      "metadata": {
        "colab": {
          "base_uri": "https://localhost:8080/"
        },
        "id": "z6avcnQCI4wa",
        "outputId": "2bae42b0-8896-45c5-b1a0-166342a161fd"
      },
      "outputs": [
        {
          "output_type": "stream",
          "name": "stdout",
          "text": [
            "['Maharaya Bintangku Aridhana', 2022071009, 'Teknik Informatika', 'Desain dan Analisis Algoritma', 2023, 9, 13, 'Universitas Pembangungan Jaya']\n"
          ]
        }
      ],
      "source": [
        "import datetime\n",
        "today_date = datetime.datetime.today()\n",
        "date_list = [today_date.year, today_date.month, today_date.day]\n",
        "aList = [\"Maharaya Bintangku Aridhana\",2022071009,\"Teknik Informatika\",\"Desain dan Analisis Algoritma\",today_date.year, today_date.month, today_date.day,\"Universitas Pembangungan Jaya\"]\n",
        "print(aList)"
      ]
    },
    {
      "cell_type": "code",
      "source": [
        "bin_colors = [\"Red\",\"Green\",\"Blue\",\"Yellow\"]\n",
        "bin_colors[1]\n"
      ],
      "metadata": {
        "colab": {
          "base_uri": "https://localhost:8080/",
          "height": 35
        },
        "id": "3LR4swRnK8vg",
        "outputId": "55eecd81-9458-4007-c0d5-20e8612d29fc"
      },
      "execution_count": 13,
      "outputs": [
        {
          "output_type": "execute_result",
          "data": {
            "text/plain": [
              "'Green'"
            ],
            "application/vnd.google.colaboratory.intrinsic+json": {
              "type": "string"
            }
          },
          "metadata": {},
          "execution_count": 13
        }
      ]
    },
    {
      "cell_type": "code",
      "source": [
        "import datetime\n",
        "today_date = datetime.datetime.today()\n",
        "date_list = [today_date.year, today_date.month, today_date.day]\n",
        "aList = [\"Maharaya Bintangku Aridhana\",2022071009,\"Teknik Informatika\",\"Desain dan Analisis Algoritma\",today_date.year, today_date.month, today_date.day,\"Universitas Pembangungan Jaya\"]\n",
        "aList[1]"
      ],
      "metadata": {
        "colab": {
          "base_uri": "https://localhost:8080/"
        },
        "id": "TElT8kA3QRSO",
        "outputId": "165e38fd-adef-4c49-d95a-48debbb414ba"
      },
      "execution_count": 15,
      "outputs": [
        {
          "output_type": "execute_result",
          "data": {
            "text/plain": [
              "2022071009"
            ]
          },
          "metadata": {},
          "execution_count": 15
        }
      ]
    },
    {
      "cell_type": "code",
      "source": [
        "bin_colors = [\"Red\",\"Green\",\"Blue\",\"Yellow\"]\n",
        "bin_colors[0:3]"
      ],
      "metadata": {
        "colab": {
          "base_uri": "https://localhost:8080/"
        },
        "id": "Uj2wy7iGVI7l",
        "outputId": "c492d33f-06e5-4e1a-8979-479940051c45"
      },
      "execution_count": 24,
      "outputs": [
        {
          "output_type": "execute_result",
          "data": {
            "text/plain": [
              "['Red', 'Green', 'Blue']"
            ]
          },
          "metadata": {},
          "execution_count": 24
        }
      ]
    },
    {
      "cell_type": "code",
      "source": [
        "bin_colors = [\"Red\",\"Green\",\"Blue\",\"Yellow\"]\n",
        "for aColor in bin_colors:\n",
        "  print(aColor + \" Square\")"
      ],
      "metadata": {
        "colab": {
          "base_uri": "https://localhost:8080/"
        },
        "id": "wOK22h0gXIUV",
        "outputId": "3e455141-4a12-4bcc-c16e-298803d94acb"
      },
      "execution_count": 26,
      "outputs": [
        {
          "output_type": "stream",
          "name": "stdout",
          "text": [
            "Red Square\n",
            "Green Square\n",
            "Blue Square\n",
            "Yellow Square\n"
          ]
        }
      ]
    },
    {
      "cell_type": "code",
      "source": [
        "import datetime\n",
        "today_date = datetime.datetime.today()\n",
        "date_list = [today_date.year, today_date.month, today_date.day]\n",
        "aList = [\"Maharaya Bintangku Aridhana\",\"2022071009\",\"Teknik Informatika\",\"Desain dan Analisis Algoritma\",\"Universitas Pembangungan Jaya\"]\n",
        "\n",
        "for aLIST in aList:\n",
        "  print(aLIST + \" Square\")"
      ],
      "metadata": {
        "colab": {
          "base_uri": "https://localhost:8080/"
        },
        "id": "XsLoBPqgXz2F",
        "outputId": "c09dba7d-14d2-40eb-c40a-1e714ee3d930"
      },
      "execution_count": 41,
      "outputs": [
        {
          "output_type": "stream",
          "name": "stdout",
          "text": [
            "Maharaya Bintangku Aridhana Square\n",
            "2022071009 Square\n",
            "Teknik Informatika Square\n",
            "Desain dan Analisis Algoritma Square\n",
            "Universitas Pembangungan Jaya Square\n"
          ]
        }
      ]
    },
    {
      "cell_type": "code",
      "source": [
        "bin_colors = [\"Red\",\"Green\",\"Blue\",\"Yellow\"]\n",
        "bin_colors[1]\n",
        "bin_colors[1:]"
      ],
      "metadata": {
        "colab": {
          "base_uri": "https://localhost:8080/"
        },
        "id": "Fv4oC4gvpJJC",
        "outputId": "1236fa7d-6494-48d1-8606-8e293a7df68d"
      },
      "execution_count": 43,
      "outputs": [
        {
          "output_type": "execute_result",
          "data": {
            "text/plain": [
              "['Green', 'Blue', 'Yellow']"
            ]
          },
          "metadata": {},
          "execution_count": 43
        }
      ]
    },
    {
      "cell_type": "code",
      "source": [
        "#Latihan 1\n",
        "import datetime\n",
        "today_date = datetime.datetime.today()\n",
        "date_list = [today_date.year, today_date.month, today_date.day]\n",
        "Mahasiswa = [\"Maharaya Bintangku Aridhana\",2022071009,\"Teknik Informatika\",\"Desain dan Analisis Algoritma\",today_date.year, today_date.month, today_date.day,\"Universitas Pembangungan Jaya\"]\n",
        "print(Mahasiswa)"
      ],
      "metadata": {
        "colab": {
          "base_uri": "https://localhost:8080/"
        },
        "id": "KxkP4KYRnn6r",
        "outputId": "18f9c5fa-284d-45fd-8fa9-86a055aba6e4"
      },
      "execution_count": 32,
      "outputs": [
        {
          "output_type": "stream",
          "name": "stdout",
          "text": [
            "['Maharaya Bintangku Aridhana', 2022071009, 'Teknik Informatika', 'Desain dan Analisis Algoritma', 2023, 9, 13, 'Universitas Pembangungan Jaya']\n"
          ]
        }
      ]
    },
    {
      "cell_type": "code",
      "source": [
        "#Latihan 2\n",
        "import datetime\n",
        "today_date = datetime.datetime.today()\n",
        "date_list = [today_date.year, today_date.month, today_date.day]\n",
        "Mahasiswa = [\"Maharaya Bintangku Aridhana\",2022071009,\"Teknik Informatika\",\"Desain dan Analisis Algoritma\",today_date.year, today_date.month, today_date.day,\"Universitas Pembangungan Jaya\"]\n",
        "Mahasiswa[1]"
      ],
      "metadata": {
        "colab": {
          "base_uri": "https://localhost:8080/"
        },
        "id": "P9B3yqmtnq2S",
        "outputId": "6a4549ba-94b3-49b7-e335-1428844b765f"
      },
      "execution_count": 34,
      "outputs": [
        {
          "output_type": "execute_result",
          "data": {
            "text/plain": [
              "2022071009"
            ]
          },
          "metadata": {},
          "execution_count": 34
        }
      ]
    },
    {
      "cell_type": "code",
      "source": [
        "#Latihan 3\n",
        "import datetime\n",
        "today_date = datetime.datetime.today()\n",
        "date_list = [today_date.year, today_date.month, today_date.day]\n",
        "Mahasiswa = [\"Maharaya Bintangku Aridhana\",2022071009,\"Teknik Informatika\",\"Desain dan Analisis Algoritma\",today_date.year, today_date.month, today_date.day,\"Universitas Pembangungan Jaya\"]\n",
        "Mahasiswa[0]"
      ],
      "metadata": {
        "colab": {
          "base_uri": "https://localhost:8080/",
          "height": 35
        },
        "id": "jlmwz-8Jn4eC",
        "outputId": "41e781bb-8cb4-480e-8287-c75af0ea597a"
      },
      "execution_count": 36,
      "outputs": [
        {
          "output_type": "execute_result",
          "data": {
            "text/plain": [
              "'Maharaya Bintangku Aridhana'"
            ],
            "application/vnd.google.colaboratory.intrinsic+json": {
              "type": "string"
            }
          },
          "metadata": {},
          "execution_count": 36
        }
      ]
    },
    {
      "cell_type": "code",
      "source": [
        "#Latihan 4\n",
        "import datetime\n",
        "today_date = datetime.datetime.today()\n",
        "date_list = [today_date.year, today_date.month, today_date.day]\n",
        "Mahasiswa = [\"Maharaya Bintangku Aridhana\",2022071009,\"Teknik Informatika\",\"Desain dan Analisis Algoritma\",today_date.year, today_date.month, today_date.day,\"Universitas Pembangungan Jaya\"]\n",
        "Mahasiswa[0:2]"
      ],
      "metadata": {
        "colab": {
          "base_uri": "https://localhost:8080/"
        },
        "id": "drmYCfpeoF3q",
        "outputId": "a1b6e75f-b593-4441-850b-414e525cbcd8"
      },
      "execution_count": 38,
      "outputs": [
        {
          "output_type": "execute_result",
          "data": {
            "text/plain": [
              "['Maharaya Bintangku Aridhana', 2022071009]"
            ]
          },
          "metadata": {},
          "execution_count": 38
        }
      ]
    },
    {
      "cell_type": "code",
      "source": [
        "#Latihan 5\n",
        "import datetime\n",
        "today_date = datetime.datetime.today()\n",
        "date_list = [today_date.year, today_date.month, today_date.day]\n",
        "Mahasiswa = [\"Maharaya Bintangku Aridhana\",\"2022071009\",\"Teknik Informatika\",\"Desain dan Analisis Algoritma\",\"Universitas Pembangungan Jaya\"]\n",
        "\n",
        "for aLIST in Mahasiswa:\n",
        "  print(aLIST + \" UPJ\")"
      ],
      "metadata": {
        "colab": {
          "base_uri": "https://localhost:8080/"
        },
        "id": "5JELnjYwoOCI",
        "outputId": "addb92c6-fdde-459e-99bf-8f49b52de91a"
      },
      "execution_count": 40,
      "outputs": [
        {
          "output_type": "stream",
          "name": "stdout",
          "text": [
            "Maharaya Bintangku Aridhana UPJ\n",
            "2022071009 UPJ\n",
            "Teknik Informatika UPJ\n",
            "Desain dan Analisis Algoritma UPJ\n",
            "Universitas Pembangungan Jaya UPJ\n"
          ]
        }
      ]
    },
    {
      "cell_type": "code",
      "source": [
        "#Latihan 6\n",
        "UPJ = (\"Universitas\",\"Pembangungan\",\"Jaya\")\n",
        "print(UPJ)"
      ],
      "metadata": {
        "colab": {
          "base_uri": "https://localhost:8080/"
        },
        "id": "glz1zNTEpAgU",
        "outputId": "bfe08eeb-f0f1-4121-8649-6849634f79e0"
      },
      "execution_count": 48,
      "outputs": [
        {
          "output_type": "stream",
          "name": "stdout",
          "text": [
            "('Universitas', 'Pembangungan', 'Jaya')\n"
          ]
        }
      ]
    },
    {
      "cell_type": "code",
      "source": [
        "#Latihan 7\n",
        "pertama = (\"100\")\n",
        "kedua = (\"200\",\"400\",\"600\")\n",
        "ketiga = (\"300\")\n",
        "keempat = (\"400\",\"800\")\n",
        "\n",
        "nested_tuple = (pertama,kedua,ketiga,keempat)\n",
        "print(nested_tuple)"
      ],
      "metadata": {
        "colab": {
          "base_uri": "https://localhost:8080/"
        },
        "id": "7se-tjzprD5G",
        "outputId": "31ff7e15-2823-42cc-881a-9e67b612ba05"
      },
      "execution_count": 51,
      "outputs": [
        {
          "output_type": "stream",
          "name": "stdout",
          "text": [
            "('100', ('200', '400', '600'), '300', ('400', '800'))\n"
          ]
        }
      ]
    },
    {
      "cell_type": "code",
      "source": [
        "#Latihan 8\n",
        "Mahasiswa={\n",
        "    \"Nama\": \"Maharaya Bintangku Aridhana\",\n",
        "    \"NIM\": \"2022071009\",\n",
        "    \"Prodi\": \"Informatika\",\n",
        "    \"Universitas\": \"UPJ\",\n",
        "}\n",
        "print(Mahasiswa)"
      ],
      "metadata": {
        "colab": {
          "base_uri": "https://localhost:8080/"
        },
        "id": "Hn_o5H07tUH3",
        "outputId": "b8607a25-c944-44fb-ebb7-9c51aad43cbb"
      },
      "execution_count": 55,
      "outputs": [
        {
          "output_type": "stream",
          "name": "stdout",
          "text": [
            "{'Nama': 'Maharaya Bintangku Aridhana', 'NIM': '2022071009', 'Prodi': 'Informatika', 'Universitas': 'UPJ'}\n"
          ]
        }
      ]
    }
  ]
}